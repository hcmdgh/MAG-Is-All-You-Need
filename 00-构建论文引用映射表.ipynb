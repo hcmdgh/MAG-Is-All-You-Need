{
 "cells": [
  {
   "cell_type": "markdown",
   "metadata": {},
   "source": [
    "# 1 构建论文引用映射表"
   ]
  },
  {
   "cell_type": "code",
   "execution_count": 1,
   "metadata": {},
   "outputs": [
    {
     "name": "stderr",
     "output_type": "stream",
     "text": [
      "100%|██████████| 1932030797/1932030797 [1:58:24<00:00, 271938.79it/s]  \n"
     ]
    }
   ],
   "source": [
    "import pickle \n",
    "from tqdm import tqdm \n",
    "from collections import defaultdict\n",
    "import json \n",
    "\n",
    "paper_cite_map: dict[int, list[int]] = defaultdict(list)\n",
    "paper_cited_map: dict[int, list[int]] = defaultdict(list)\n",
    "\n",
    "with open('/home/Dataset/MAG/mag_20211108/mag/PaperReferences.txt', 'r') as fp:\n",
    "    for line in tqdm(fp, total=19_3203_0797):\n",
    "        columns = line.split('\\t') \n",
    "        paper_id = int(columns[0])\n",
    "        paper_ref_id = int(columns[1])\n",
    "\n",
    "        paper_cite_map[paper_id].append(paper_ref_id)\n",
    "        paper_cited_map[paper_ref_id].append(paper_id)"
   ]
  },
  {
   "cell_type": "markdown",
   "metadata": {},
   "source": [
    "# 2 落盘"
   ]
  },
  {
   "cell_type": "code",
   "execution_count": 2,
   "metadata": {},
   "outputs": [
    {
     "name": "stderr",
     "output_type": "stream",
     "text": [
      "100%|██████████| 89887095/89887095 [11:53<00:00, 126019.85it/s]\n",
      "100%|██████████| 103656193/103656193 [25:27<00:00, 67858.01it/s] \n"
     ]
    }
   ],
   "source": [
    "with open('./output/paper_cite_mapping.tsv', 'w') as fp:\n",
    "    for paper_id, cite_ids in tqdm(paper_cite_map.items()):\n",
    "        if cite_ids:\n",
    "            cite_ids_str = ','.join(str(x) for x in set(cite_ids))\n",
    "            print(f\"{paper_id}\\t{cite_ids_str}\", file=fp)\n",
    "            \n",
    "with open('./output/paper_cited_mapping.tsv', 'w') as fp:\n",
    "    for paper_id, cited_ids in tqdm(paper_cited_map.items()):\n",
    "        if cited_ids:\n",
    "            cited_ids_str = ','.join(str(x) for x in set(cited_ids))\n",
    "            print(f\"{paper_id}\\t{cited_ids_str}\", file=fp)"
   ]
  }
 ],
 "metadata": {
  "kernelspec": {
   "display_name": "Python 3.9.7 ('base')",
   "language": "python",
   "name": "python3"
  },
  "language_info": {
   "codemirror_mode": {
    "name": "ipython",
    "version": 3
   },
   "file_extension": ".py",
   "mimetype": "text/x-python",
   "name": "python",
   "nbconvert_exporter": "python",
   "pygments_lexer": "ipython3",
   "version": "3.9.7"
  },
  "orig_nbformat": 4,
  "vscode": {
   "interpreter": {
    "hash": "db203275a0662fbdba278253e7b36bd0b0deda9dd533b0aa2c1408581fb76a05"
   }
  }
 },
 "nbformat": 4,
 "nbformat_minor": 2
}
