{
 "cells": [
  {
   "cell_type": "markdown",
   "metadata": {},
   "source": [
    "# 1 论文附加领域信息"
   ]
  },
  {
   "cell_type": "markdown",
   "metadata": {},
   "source": [
    "## 1.1 读取论文-领域映射表"
   ]
  },
  {
   "cell_type": "code",
   "execution_count": 2,
   "metadata": {},
   "outputs": [],
   "source": [
    "from tqdm import tqdm \n",
    "from typing import Iterator, Any, Optional \n",
    "import json \n",
    "import pickle "
   ]
  },
  {
   "cell_type": "code",
   "execution_count": 3,
   "metadata": {},
   "outputs": [
    {
     "name": "stderr",
     "output_type": "stream",
     "text": [
      "100%|██████████| 209568870/209568870 [14:50<00:00, 235321.05it/s] \n"
     ]
    }
   ],
   "source": [
    "paper_field_map: dict[int, list[int]] = dict() \n",
    "\n",
    "with open('./output/paper_field_mapping.tsv', 'r') as fp:\n",
    "    for line in tqdm(fp, total=2_0956_8870):\n",
    "        paper_id, field_ids = line.split('\\t')\n",
    "        paper_id = int(paper_id)\n",
    "        field_ids = [int(x) for x in field_ids.split(',')]\n",
    "        \n",
    "        paper_field_map[paper_id] = field_ids"
   ]
  },
  {
   "cell_type": "markdown",
   "metadata": {},
   "source": [
    "## 1.2 关联论文和领域，并落盘"
   ]
  },
  {
   "cell_type": "code",
   "execution_count": 4,
   "metadata": {},
   "outputs": [
    {
     "name": "stderr",
     "output_type": "stream",
     "text": [
      "100%|██████████| 269451039/269451039 [2:24:03<00:00, 31173.20it/s]  \n"
     ]
    }
   ],
   "source": [
    "def parse_int(obj) -> Optional[int]:\n",
    "    try:\n",
    "        return int(obj)\n",
    "    except Exception:\n",
    "        return None \n",
    "    \n",
    "\n",
    "with open('./output/paper_with_field.json', 'w', encoding='utf-8') as w:\n",
    "    with open('/home/Dataset/MAG/mag_20211108/mag/Papers.txt', 'r', encoding='utf-8') as r:\n",
    "        for line in tqdm(r, total=2_6945_1039):\n",
    "            columns = line.split('\\t')\n",
    "            \n",
    "            paper = dict(\n",
    "                id = int(columns[0]),\n",
    "                rank = parse_int(columns[1]),\n",
    "                doi = columns[2].strip(),\n",
    "                doc_type = columns[3].strip(),\n",
    "                title = columns[4].strip(),\n",
    "                original_title = columns[5].strip(),\n",
    "                book_title = columns[6].strip(),\n",
    "                year = parse_int(columns[7]), \n",
    "                date = columns[8].strip(),\n",
    "                online_date = columns[9].strip(),\n",
    "                publisher = columns[10].strip(),\n",
    "                journal_id = parse_int(columns[11]), \n",
    "                conference_id = parse_int(columns[12]), \n",
    "                conference_instance_id = parse_int(columns[13]), \n",
    "                volume = columns[14].strip(), \n",
    "                issue = columns[15].strip(), \n",
    "                first_page = columns[16].strip(), \n",
    "                last_page = columns[17].strip(), \n",
    "                reference_count = parse_int(columns[18]), \n",
    "                citation_count = parse_int(columns[19]),  \n",
    "                estimated_citation = parse_int(columns[20]),  \n",
    "                original_venue = columns[21].strip(), \n",
    "                family_id = parse_int(columns[22]),  \n",
    "                family_rank = parse_int(columns[23]),  \n",
    "                doc_sub_types = columns[24].strip(), \n",
    "                created_date = columns[25].strip(), \n",
    "            )\n",
    "            \n",
    "            paper_id = paper['id']\n",
    "            field_ids = paper_field_map.get(paper_id, [])\n",
    "            paper['field_ids'] = field_ids\n",
    "            \n",
    "            json_str = json.dumps(paper, ensure_ascii=False).strip() \n",
    "            print(json_str, file=w)"
   ]
  },
  {
   "cell_type": "markdown",
   "metadata": {},
   "source": [
    "## 1.3 释放内存"
   ]
  },
  {
   "cell_type": "code",
   "execution_count": 5,
   "metadata": {},
   "outputs": [],
   "source": [
    "del paper_field_map"
   ]
  },
  {
   "cell_type": "markdown",
   "metadata": {},
   "source": [
    "# 2 论文附加引用关系"
   ]
  },
  {
   "cell_type": "markdown",
   "metadata": {},
   "source": [
    "## 2.1 读取论文引用关系映射表"
   ]
  },
  {
   "cell_type": "code",
   "execution_count": 3,
   "metadata": {},
   "outputs": [
    {
     "name": "stderr",
     "output_type": "stream",
     "text": [
      "100%|██████████| 89887095/89887095 [13:03<00:00, 114729.81it/s] \n",
      "100%|██████████| 103656193/103656193 [17:41<00:00, 97641.03it/s] \n"
     ]
    }
   ],
   "source": [
    "paper_cite_map: dict[int, list[int]] = dict() \n",
    "\n",
    "with open('./output/paper_cite_mapping.tsv', 'r') as fp:\n",
    "    for line in tqdm(fp, total=8988_7095):\n",
    "        paper_id, cite_paper_ids = line.split('\\t')\n",
    "        paper_id = int(paper_id)\n",
    "        cite_paper_ids = [int(x) for x in cite_paper_ids.split(',')]\n",
    "        \n",
    "        paper_cite_map[paper_id] = cite_paper_ids\n",
    "        \n",
    "paper_cited_map: dict[int, list[int]] = dict() \n",
    "\n",
    "with open('./output/paper_cited_mapping.tsv', 'r') as fp:\n",
    "    for line in tqdm(fp, total=1_0365_6193):\n",
    "        paper_id, cited_paper_ids = line.split('\\t')\n",
    "        paper_id = int(paper_id)\n",
    "        cited_paper_ids = [int(x) for x in cited_paper_ids.split(',')]\n",
    "        \n",
    "        paper_cited_map[paper_id] = cited_paper_ids"
   ]
  },
  {
   "cell_type": "markdown",
   "metadata": {},
   "source": [
    "## 2.2 关联论文和引用关系，并落盘"
   ]
  },
  {
   "cell_type": "code",
   "execution_count": 4,
   "metadata": {},
   "outputs": [
    {
     "name": "stderr",
     "output_type": "stream",
     "text": [
      "100%|██████████| 269451039/269451039 [3:08:59<00:00, 23761.58it/s]  \n"
     ]
    }
   ],
   "source": [
    "with open('./output/paper_with_field_citation.json', 'w', encoding='utf-8') as w:\n",
    "    with open('./output/paper_with_field.json', 'r', encoding='utf-8') as r:\n",
    "        for line in tqdm(r, total=2_6945_1039):\n",
    "            paper = json.loads(line)\n",
    "            paper_id = paper['id']\n",
    "            \n",
    "            cite_paper_ids = paper_cite_map.get(paper_id, [])\n",
    "            cited_paper_ids = paper_cited_map.get(paper_id, [])\n",
    "            \n",
    "            paper['cite_paper_ids'] = cite_paper_ids \n",
    "            paper['cited_paper_ids'] = cited_paper_ids\n",
    "            \n",
    "            json_str = json.dumps(paper, ensure_ascii=False).strip() \n",
    "            print(json_str, file=w) "
   ]
  },
  {
   "cell_type": "markdown",
   "metadata": {},
   "source": [
    "## 2.3 释放内存"
   ]
  },
  {
   "cell_type": "code",
   "execution_count": null,
   "metadata": {},
   "outputs": [],
   "source": [
    "del paper_cite_map\n",
    "del paper_cited_map"
   ]
  },
  {
   "cell_type": "markdown",
   "metadata": {},
   "source": [
    "# 3 论文附加作者信息"
   ]
  },
  {
   "cell_type": "markdown",
   "metadata": {},
   "source": [
    "## 3.1 读取论文-作者映射表"
   ]
  },
  {
   "cell_type": "code",
   "execution_count": 3,
   "metadata": {},
   "outputs": [
    {
     "name": "stderr",
     "output_type": "stream",
     "text": [
      "269412163it [27:09, 165334.28it/s]\n"
     ]
    }
   ],
   "source": [
    "paper_author_map: dict[int, list[list]] = dict() \n",
    "\n",
    "with open('./output/paper_author_mapping.tsv', 'r') as fp:\n",
    "    for line in tqdm(fp):\n",
    "        paper_id, author_list = line.split('\\t')\n",
    "        paper_id = int(paper_id)\n",
    "        author_list = json.loads(author_list)\n",
    "        \n",
    "        paper_author_map[paper_id] = author_list"
   ]
  },
  {
   "cell_type": "markdown",
   "metadata": {},
   "source": [
    "## 3.2 关联论文和作者，并落盘"
   ]
  },
  {
   "cell_type": "code",
   "execution_count": 4,
   "metadata": {},
   "outputs": [
    {
     "name": "stderr",
     "output_type": "stream",
     "text": [
      "100%|██████████| 269451039/269451039 [3:43:38<00:00, 20080.19it/s]  \n"
     ]
    }
   ],
   "source": [
    "with open('./output/paper_with_field_citation_author.json', 'w', encoding='utf-8') as w:\n",
    "    with open('./output/paper_with_field_citation.json', 'r', encoding='utf-8') as r:\n",
    "        for line in tqdm(r, total=2_6945_1039):\n",
    "            paper = json.loads(line)\n",
    "            paper_id = paper['id']\n",
    "            \n",
    "            author_list = paper_author_map.get(paper_id, [])\n",
    "            author_list = [dict(author_id=x[0], affiliation_id=x[1], author_seq=x[2]) for x in author_list]\n",
    "            \n",
    "            paper['author_list'] = author_list \n",
    "            \n",
    "            json_str = json.dumps(paper, ensure_ascii=False).strip() \n",
    "            print(json_str, file=w) "
   ]
  },
  {
   "cell_type": "markdown",
   "metadata": {},
   "source": [
    "## 3.3 释放内存"
   ]
  },
  {
   "cell_type": "code",
   "execution_count": null,
   "metadata": {},
   "outputs": [],
   "source": [
    "del paper_author_map"
   ]
  }
 ],
 "metadata": {
  "kernelspec": {
   "display_name": "Python 3.9.7 ('base')",
   "language": "python",
   "name": "python3"
  },
  "language_info": {
   "codemirror_mode": {
    "name": "ipython",
    "version": 3
   },
   "file_extension": ".py",
   "mimetype": "text/x-python",
   "name": "python",
   "nbconvert_exporter": "python",
   "pygments_lexer": "ipython3",
   "version": "3.9.7"
  },
  "orig_nbformat": 4,
  "vscode": {
   "interpreter": {
    "hash": "db203275a0662fbdba278253e7b36bd0b0deda9dd533b0aa2c1408581fb76a05"
   }
  }
 },
 "nbformat": 4,
 "nbformat_minor": 2
}
