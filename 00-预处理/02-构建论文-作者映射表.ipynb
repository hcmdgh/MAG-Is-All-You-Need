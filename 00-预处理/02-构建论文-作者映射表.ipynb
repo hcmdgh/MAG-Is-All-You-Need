{
 "cells": [
  {
   "cell_type": "markdown",
   "metadata": {},
   "source": [
    "# 1 构建论文-作者映射表"
   ]
  },
  {
   "cell_type": "code",
   "execution_count": 1,
   "metadata": {},
   "outputs": [
    {
     "name": "stderr",
     "output_type": "stream",
     "text": [
      "100%|██████████| 731587019/731587019 [40:17<00:00, 302602.43it/s]  \n"
     ]
    }
   ],
   "source": [
    "import pickle \n",
    "from tqdm import tqdm \n",
    "from collections import defaultdict\n",
    "import json \n",
    "\n",
    "paper_author_map: dict[int, list[tuple]] = defaultdict(list) \n",
    "\n",
    "with open('/home/Dataset/MAG/mag_20211108/mag/PaperAuthorAffiliations.txt', 'r') as fp:\n",
    "    for line in tqdm(fp, total=7_3158_7019):\n",
    "        columns = line.split('\\t') \n",
    "        paper_id = int(columns[0])\n",
    "        author_id = int(columns[1])\n",
    "        try:\n",
    "            affiliation_id = int(columns[2])\n",
    "        except ValueError:\n",
    "            affiliation_id = None \n",
    "        author_seq = int(columns[3])\n",
    "        \n",
    "        paper_author_map[paper_id].append(\n",
    "            (author_id, affiliation_id, author_seq)\n",
    "        )"
   ]
  },
  {
   "cell_type": "markdown",
   "metadata": {},
   "source": [
    "# 2 落盘"
   ]
  },
  {
   "cell_type": "code",
   "execution_count": 2,
   "metadata": {},
   "outputs": [
    {
     "name": "stderr",
     "output_type": "stream",
     "text": [
      "100%|██████████| 269412163/269412163 [20:02<00:00, 224128.44it/s]\n"
     ]
    }
   ],
   "source": [
    "with open('./output/paper_author_mapping.json', 'w') as fp:\n",
    "    for paper_id, author_list in tqdm(paper_author_map.items()):\n",
    "        json_str = json.dumps(list(set(author_list))).strip() \n",
    "        print(f\"{paper_id}\\t{json_str}\", file=fp)"
   ]
  }
 ],
 "metadata": {
  "kernelspec": {
   "display_name": "Python 3.9.7 ('base')",
   "language": "python",
   "name": "python3"
  },
  "language_info": {
   "codemirror_mode": {
    "name": "ipython",
    "version": 3
   },
   "file_extension": ".py",
   "mimetype": "text/x-python",
   "name": "python",
   "nbconvert_exporter": "python",
   "pygments_lexer": "ipython3",
   "version": "3.9.7"
  },
  "orig_nbformat": 4,
  "vscode": {
   "interpreter": {
    "hash": "db203275a0662fbdba278253e7b36bd0b0deda9dd533b0aa2c1408581fb76a05"
   }
  }
 },
 "nbformat": 4,
 "nbformat_minor": 2
}
