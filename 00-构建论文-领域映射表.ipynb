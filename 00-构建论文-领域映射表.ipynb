{
 "cells": [
  {
   "cell_type": "markdown",
   "metadata": {},
   "source": [
    "# 1 构建论文-领域映射表"
   ]
  },
  {
   "cell_type": "code",
   "execution_count": null,
   "metadata": {},
   "outputs": [],
   "source": [
    "import pickle \n",
    "from tqdm import tqdm \n",
    "from collections import defaultdict\n",
    "import json \n",
    "\n",
    "paper_field_map: dict[int, list[int]] = defaultdict(list)\n",
    "field_paper_map: dict[int, list[int]] = defaultdict(list)\n",
    "\n",
    "with open('/home/Dataset/MAG/mag_20211108/advanced/PaperFieldsOfStudy.txt', 'r') as fp:\n",
    "    for line in tqdm(fp, total=15_4656_1902):\n",
    "        columns = line.split('\\t') \n",
    "        paper_id = int(columns[0])\n",
    "        field_id = int(columns[1])\n",
    "\n",
    "        paper_field_map[paper_id].append(field_id)\n",
    "        field_paper_map[field_id].append(paper_id)"
   ]
  },
  {
   "cell_type": "markdown",
   "metadata": {},
   "source": [
    "# 2 落盘"
   ]
  },
  {
   "cell_type": "code",
   "execution_count": null,
   "metadata": {},
   "outputs": [],
   "source": [
    "with open('./output/paper_field_mapping.tsv', 'w') as fp:\n",
    "    for paper_id, field_ids in tqdm(paper_field_map.items()):\n",
    "        field_ids_str = ','.join(str(x) for x in set(field_ids))\n",
    "        print(f\"{paper_id}\\t{field_ids_str}\", file=fp)\n",
    "        \n",
    "with open('./output/field_paper_mapping.tsv', 'w') as fp:\n",
    "    for field_id, paper_ids in tqdm(field_paper_map.items()):\n",
    "        paper_ids_str = ','.join(str(x) for x in set(paper_ids))\n",
    "        print(f\"{field_id}\\t{paper_ids_str}\", file=fp)"
   ]
  }
 ],
 "metadata": {
  "kernelspec": {
   "display_name": "Python 3.9.7 ('base')",
   "language": "python",
   "name": "python3"
  },
  "language_info": {
   "name": "python",
   "version": "3.9.7"
  },
  "orig_nbformat": 4,
  "vscode": {
   "interpreter": {
    "hash": "db203275a0662fbdba278253e7b36bd0b0deda9dd533b0aa2c1408581fb76a05"
   }
  }
 },
 "nbformat": 4,
 "nbformat_minor": 2
}
